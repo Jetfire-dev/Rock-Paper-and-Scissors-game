{
 "cells": [
  {
   "cell_type": "code",
   "execution_count": 24,
   "id": "9cbe14c9",
   "metadata": {},
   "outputs": [
    {
     "name": "stdout",
     "output_type": "stream",
     "text": [
      "rock (r), paper (p), scissors(s)?r\n",
      "r\n"
     ]
    }
   ],
   "source": [
    "#randint is used for generating random numbers\n",
    "from random import randint\n",
    "\n",
    "#choices for player to make\n",
    "player = input('rock (r), paper (p), scissors(s)?')\n",
    "\n",
    "\n",
    "#choice player makes\n",
    "print(player)"
   ]
  },
  {
   "cell_type": "code",
   "execution_count": 11,
   "id": "d0e4202e",
   "metadata": {},
   "outputs": [
    {
     "name": "stdout",
     "output_type": "stream",
     "text": [
      "2\n"
     ]
    }
   ],
   "source": [
    "#Computer makes random choice\n",
    "chosen = randint(1,3)\n",
    "\n",
    "print(chosen)"
   ]
  },
  {
   "cell_type": "code",
   "execution_count": 15,
   "id": "19a4d288",
   "metadata": {},
   "outputs": [
    {
     "name": "stdout",
     "output_type": "stream",
     "text": [
      "p\n"
     ]
    }
   ],
   "source": [
    "#cases of computer choices\n",
    "if (chosen == 1):\n",
    "    computer = 'r'\n",
    "elif (chosen == 2):\n",
    "    computer = 'p'\n",
    "elif(chosen == 3):\n",
    "    computer = 's'\n",
    "else:\n",
    "    print('error')\n",
    "\n",
    "\n",
    "print(computer)"
   ]
  },
  {
   "cell_type": "code",
   "execution_count": 16,
   "id": "42f8b600",
   "metadata": {},
   "outputs": [
    {
     "name": "stdout",
     "output_type": "stream",
     "text": [
      "r vs p\n"
     ]
    }
   ],
   "source": [
    "print(player, 'vs', computer)"
   ]
  },
  {
   "cell_type": "code",
   "execution_count": 17,
   "id": "3a7e5652",
   "metadata": {},
   "outputs": [
    {
     "name": "stdout",
     "output_type": "stream",
     "text": [
      "Computer wins! better luck next time\n"
     ]
    }
   ],
   "source": [
    "#cases of player vs computer results\n",
    "if (player == computer):\n",
    "    print('Draw!')\n",
    "\n",
    "elif (player == 'r' and computer == 's'):\n",
    "    print('player wins! EZ')\n",
    "    \n",
    "elif (player == 'r' and computer == 'p'):\n",
    "    print('Computer wins! better luck next time')\n",
    "\n",
    "elif(player == 'p' and computer == 's'):\n",
    "    print('Computer wins! better luck next time')\n",
    "    \n",
    "elif (player == 'p' and computer == 'r'):\n",
    "    print('player wins! EZ')\n",
    "    \n",
    "elif (player == 's' and computer == 'r'):\n",
    "    print('Computer wins! better luck next time')\n",
    "    \n",
    "elif (player == 's' and computer == 'p'):\n",
    "    print('player wins! EZ')\n",
    "\n",
    "else:\n",
    "    print('oops just the usual error')"
   ]
  },
  {
   "cell_type": "code",
   "execution_count": null,
   "id": "7139ffbc",
   "metadata": {},
   "outputs": [
    {
     "name": "stdout",
     "output_type": "stream",
     "text": [
      "rock (r), paper (p) or scissors(s)?\n",
      "Enter to 'q' to quits\n",
      "s vs s\n",
      "Draw!\n",
      "rock (r), paper (p) or scissors(s)?\n",
      "Enter to 'q' to quitp\n",
      "p vs p\n",
      "Draw!\n"
     ]
    }
   ],
   "source": [
    "from random import randint\n",
    "\n",
    "while True:\n",
    "    player = input(\"rock (r), paper (p) or scissors(s)?\\nEnter to 'q' to quit\")\n",
    "    if player == 'q':\n",
    "        print('you have quit the game')\n",
    "        break\n",
    "    chosen = randint(1,3)\n",
    "    if (chosen == 1):\n",
    "        computer = 'r'\n",
    "    elif (chosen == 2):\n",
    "        computer = 'p'\n",
    "    elif(chosen == 3):\n",
    "        computer = 's'\n",
    "    else:\n",
    "        print('error')\n",
    " \n",
    "    print(player, 'vs', computer)\n",
    "\n",
    "    if (player == computer):\n",
    "        print('Draw!')\n",
    "\n",
    "    elif (player == 'r' and computer == 's'):\n",
    "        print('player wins! EZ')\n",
    "    \n",
    "    elif (player == 'r' and computer == 'p'):\n",
    "        print('Computer wins! better luck next time')\n",
    "\n",
    "    elif (player == 'p' and computer == 's'):\n",
    "        print('Computer wins! better luck next time')\n",
    "    \n",
    "    elif (player == 'p' and computer == 'r'):\n",
    "        print('player wins! EZ')\n",
    "     \n",
    "    elif (player == 's' and computer == 'r'):\n",
    "        print('Computer wins! better luck next time')\n",
    "    \n",
    "    elif (player == 's' and computer == 'p'):\n",
    "        print('player wins! EZ')\n",
    "    else:\n",
    "        print('oops just the usual error')"
   ]
  },
  {
   "cell_type": "code",
   "execution_count": null,
   "id": "4c381250",
   "metadata": {},
   "outputs": [],
   "source": []
  }
 ],
 "metadata": {
  "kernelspec": {
   "display_name": "Python 3 (ipykernel)",
   "language": "python",
   "name": "python3"
  },
  "language_info": {
   "codemirror_mode": {
    "name": "ipython",
    "version": 3
   },
   "file_extension": ".py",
   "mimetype": "text/x-python",
   "name": "python",
   "nbconvert_exporter": "python",
   "pygments_lexer": "ipython3",
   "version": "3.9.12"
  }
 },
 "nbformat": 4,
 "nbformat_minor": 5
}
